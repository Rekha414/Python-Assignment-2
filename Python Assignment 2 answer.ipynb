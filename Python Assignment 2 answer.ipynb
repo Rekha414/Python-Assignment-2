{
  "nbformat": 4,
  "nbformat_minor": 0,
  "metadata": {
    "colab": {
      "provenance": []
    },
    "kernelspec": {
      "name": "python3",
      "display_name": "Python 3"
    },
    "language_info": {
      "name": "python"
    }
  },
  "cells": [
    {
      "cell_type": "code",
      "execution_count": null,
      "metadata": {
        "id": "x-BAJInlMQ23"
      },
      "outputs": [],
      "source": []
    },
    {
      "cell_type": "markdown",
      "source": [
        "1. Discuss string slicing and provide examples.\n",
        "\n",
        "\n",
        "---\n",
        "\n"
      ],
      "metadata": {
        "id": "rS5Fl1_qMTO8"
      }
    },
    {
      "cell_type": "markdown",
      "source": [
        "Ans:- Ans. String slicing is a fundamental process where we extract a subset of characters from a larger string by specifying a start index,end index and optionally a step value. It follows the basic format as :-\n",
        "string [start:stop:step]\n",
        "\n",
        "(a). start : it is the starting index of the slice.\n",
        "\n",
        "(b). stop : it is the ending index of the slice.\n",
        "\n",
        "(c). step : it is the increment between the indices.\n",
        "\n",
        "Python slicing can be done in two ways :-\n",
        "(i). using a slice() method (ii). using the array slicing [:: ] method\n",
        "\n",
        "Examples :-"
      ],
      "metadata": {
        "id": "MwkrxecOMpo1"
      }
    },
    {
      "cell_type": "markdown",
      "source": [
        "(a). Ommiting Start Index -\n",
        "\n"
      ],
      "metadata": {
        "id": "TmMqY4fjN32h"
      }
    },
    {
      "cell_type": "code",
      "source": [
        "\"Hello World!\" [ :5]"
      ],
      "metadata": {
        "colab": {
          "base_uri": "https://localhost:8080/",
          "height": 36
        },
        "id": "c-chF_oPOf8F",
        "outputId": "9d417d12-78dc-43d9-b414-13ac2f24fd1a"
      },
      "execution_count": 3,
      "outputs": [
        {
          "output_type": "execute_result",
          "data": {
            "text/plain": [
              "'Hello'"
            ],
            "application/vnd.google.colaboratory.intrinsic+json": {
              "type": "string"
            }
          },
          "metadata": {},
          "execution_count": 3
        }
      ]
    },
    {
      "cell_type": "markdown",
      "source": [
        "(b).Omitting End Index -"
      ],
      "metadata": {
        "id": "QOAlufrqPF05"
      }
    },
    {
      "cell_type": "code",
      "source": [
        "\"Hello World!\" [6: ]"
      ],
      "metadata": {
        "colab": {
          "base_uri": "https://localhost:8080/",
          "height": 36
        },
        "id": "wqGm19FPPG0w",
        "outputId": "58bbd670-8651-44ac-8525-57dceebbb6cd"
      },
      "execution_count": 4,
      "outputs": [
        {
          "output_type": "execute_result",
          "data": {
            "text/plain": [
              "'World!'"
            ],
            "application/vnd.google.colaboratory.intrinsic+json": {
              "type": "string"
            }
          },
          "metadata": {},
          "execution_count": 4
        }
      ]
    },
    {
      "cell_type": "markdown",
      "source": [
        "(c).Reversing a String -\n",
        "\n"
      ],
      "metadata": {
        "id": "4go14xy-PMmv"
      }
    },
    {
      "cell_type": "code",
      "source": [
        "\"Hello World!\" [ : :-1]"
      ],
      "metadata": {
        "colab": {
          "base_uri": "https://localhost:8080/",
          "height": 36
        },
        "id": "qohxsDJYPVax",
        "outputId": "e0f1b278-d2a2-4ebb-b2d4-b0a7a93c9b00"
      },
      "execution_count": 5,
      "outputs": [
        {
          "output_type": "execute_result",
          "data": {
            "text/plain": [
              "'!dlroW olleH'"
            ],
            "application/vnd.google.colaboratory.intrinsic+json": {
              "type": "string"
            }
          },
          "metadata": {},
          "execution_count": 5
        }
      ]
    },
    {
      "cell_type": "markdown",
      "source": [
        "(d). Python Example:-\n",
        "\n"
      ],
      "metadata": {
        "id": "7Cdfp6OKPeI-"
      }
    },
    {
      "cell_type": "code",
      "source": [
        "my_string = \"Hello World!\"\n",
        "print(my_string[0:5])"
      ],
      "metadata": {
        "colab": {
          "base_uri": "https://localhost:8080/"
        },
        "id": "u_9uHimzPhwz",
        "outputId": "5310e9a8-41fd-411e-872c-6ee5b1c7f6d9"
      },
      "execution_count": 7,
      "outputs": [
        {
          "output_type": "stream",
          "name": "stdout",
          "text": [
            "Hello\n"
          ]
        }
      ]
    },
    {
      "cell_type": "markdown",
      "source": [
        "Q.2. Explain the key features of Lists in Python.\n"
      ],
      "metadata": {
        "id": "gV_usExBQKBE"
      }
    },
    {
      "cell_type": "markdown",
      "source": [
        "Ans. Lists are fundamental data structure. They offer powerful features for data manipulation.A List is a collection of things enclosed in [ ] and separated by commas.\n",
        "\n",
        "Some of the features of Lists are as follows :-\n",
        "(a). Python Lists are just like dynamically sized arrays, declared in other languages like :- vector in C++ and ArrayList in Java.\n",
        "\n",
        "(b). Lists are the most powerful tool in Python.One of its reason is that it need not be homogeneous always.\n",
        "\n",
        "(c). Elements can be added to the List by using the built in append () method. Only one element at a time can be added to the list by this method.\n",
        "\n",
        "(d). Inserting, Removing, Reversing, Slicing etc. can also be done in Lists.\n",
        "\n",
        "(e). Different methods like :- append ( ), extend ( ), insert ( ), remove ( ), pop ( ) are used in Lists.\n",
        "\n",
        "Example :-\n",
        "\n",
        "Creating a List in Python :-\n",
        "\n"
      ],
      "metadata": {
        "id": "8GfLmdiBQLRh"
      }
    },
    {
      "cell_type": "code",
      "source": [
        "my_list = [1,2,3,4,\"hello world\", 4.5]"
      ],
      "metadata": {
        "id": "C1xKY19BQSBJ"
      },
      "execution_count": null,
      "outputs": []
    },
    {
      "cell_type": "markdown",
      "source": [
        "Q.3. Describe how to access,modify and delete elements in a list with examples.\n"
      ],
      "metadata": {
        "id": "oPoCMgKfQsql"
      }
    },
    {
      "cell_type": "markdown",
      "source": [
        "Ans. The processes to access, modify and delete elements in a lists are explained below :-\n",
        "Accessing Elements in Lists - In order to access the list items refer to the index number.Use the index operator [ ] to access an item in a list. The index must be an integer"
      ],
      "metadata": {
        "id": "44DGd69jQwlY"
      }
    },
    {
      "cell_type": "code",
      "source": [
        "# Creating a List with\n",
        "# the use of multiple values\n",
        "List= [ 1,2,3,4]\n",
        "#accessing an element for the\n",
        "# list using index number\n",
        "print (\"Accessing a element from the list\")\n",
        "print (List [0])\n",
        "print (List [2])"
      ],
      "metadata": {
        "colab": {
          "base_uri": "https://localhost:8080/"
        },
        "id": "x0SyMHTxQ8KD",
        "outputId": "02d99980-e042-4f56-e895-1e78500d6f4c"
      },
      "execution_count": 8,
      "outputs": [
        {
          "output_type": "stream",
          "name": "stdout",
          "text": [
            "Accessing a element from the list\n",
            "1\n",
            "3\n"
          ]
        }
      ]
    },
    {
      "cell_type": "markdown",
      "source": [
        "Delelting elements from Lists - Elements can be deleted from Lists using built-in remove() function as :-\n",
        "\n"
      ],
      "metadata": {
        "id": "2OOQdGeGRGGP"
      }
    },
    {
      "cell_type": "code",
      "source": [
        "# Creating a List\n",
        "List = [1,2,3,4,5,6,7,8,9,10]\n",
        "print (\"Initial List: \")\n",
        "print (List)\n",
        "\n",
        "# Removing elements from List\n",
        "# using Remove () method\n",
        "List. remove (5)\n",
        "List. remove (6)\n",
        "print(\"\\n List after removal of two elements: \")\n",
        "print (List)"
      ],
      "metadata": {
        "colab": {
          "base_uri": "https://localhost:8080/"
        },
        "id": "j2Cui9M8RJPP",
        "outputId": "e7d91121-a278-4e92-9548-62b735f0000f"
      },
      "execution_count": 9,
      "outputs": [
        {
          "output_type": "stream",
          "name": "stdout",
          "text": [
            "Initial List: \n",
            "[1, 2, 3, 4, 5, 6, 7, 8, 9, 10]\n",
            "\n",
            " List after removal of two elements: \n",
            "[1, 2, 3, 4, 7, 8, 9, 10]\n"
          ]
        }
      ]
    },
    {
      "cell_type": "code",
      "source": [
        "List = [1,2,3,4,5]\n",
        "# Removing element from the\n",
        "# Set using the pop( ) method\n",
        "List. pop()\n",
        "print(\"\\n List after popping an element:\")\n",
        "print (List)"
      ],
      "metadata": {
        "colab": {
          "base_uri": "https://localhost:8080/"
        },
        "id": "cX57p0hXRT4N",
        "outputId": "0f938019-8e56-4c05-e7b5-afabbe11f569"
      },
      "execution_count": 11,
      "outputs": [
        {
          "output_type": "stream",
          "name": "stdout",
          "text": [
            "\n",
            " List after popping an element:\n",
            "[1, 2, 3, 4]\n"
          ]
        }
      ]
    },
    {
      "cell_type": "markdown",
      "source": [
        "Modifying elements in Lists- We can assign new value in a List or insert elements at a specific index or append ( means adding elements to the end) or extend the number of elements in a List. These are the modifications that can be done in Lists."
      ],
      "metadata": {
        "id": "Djl18ryQResc"
      }
    },
    {
      "cell_type": "code",
      "source": [
        "my_list = [1,2,3,4,5]\n",
        "my_list [0]=10\n",
        "print (my_list)"
      ],
      "metadata": {
        "colab": {
          "base_uri": "https://localhost:8080/"
        },
        "id": "_DQHyJC9Riph",
        "outputId": "0562ca65-b505-4d7b-87fa-9196e9c43c24"
      },
      "execution_count": 12,
      "outputs": [
        {
          "output_type": "stream",
          "name": "stdout",
          "text": [
            "[10, 2, 3, 4, 5]\n"
          ]
        }
      ]
    },
    {
      "cell_type": "code",
      "source": [
        "my_list=[1,2,3,4]\n",
        "my_list.append(4)\n",
        "print(my_list)"
      ],
      "metadata": {
        "colab": {
          "base_uri": "https://localhost:8080/"
        },
        "id": "5EwJCV5SRs8H",
        "outputId": "6a7fc66e-9297-400e-a586-b3825309630d"
      },
      "execution_count": 13,
      "outputs": [
        {
          "output_type": "stream",
          "name": "stdout",
          "text": [
            "[1, 2, 3, 4, 4]\n"
          ]
        }
      ]
    },
    {
      "cell_type": "markdown",
      "source": [
        "Q.4. Compare and contrast tuples and lists with examples."
      ],
      "metadata": {
        "id": "nC9ThER3RvQv"
      }
    },
    {
      "cell_type": "markdown",
      "source": [
        "Ans. Lists and tuples are two classes Python Data Structures.There are some similarities and some differences between Lists and Tuples which can be seen below :-\n",
        "\n",
        "Similarities :-\n",
        "\n",
        "(a). Lists and Tuples both store multiple values.\n",
        "\n",
        "(b). Both are ordered collections.\n",
        "\n",
        "(c). Both support indexing, slicing and iteration.\n",
        "\n",
        "Differences :-\n",
        "\n",
        "(a). List is dynamic in nature whereas Tuple is static and can't be changed.\n",
        "\n",
        "(b). Tuples are immutable but Lists are mutable.\n",
        "\n",
        "(c). Tuples use parantheses ( ) but Lists use brackets [ ].\n",
        "\n",
        "Examples :-"
      ],
      "metadata": {
        "id": "ygvRNLerRy54"
      }
    },
    {
      "cell_type": "code",
      "source": [
        "my_tuple = (1,2,3,4,5,)\n",
        "print (my_tuple [ :3])"
      ],
      "metadata": {
        "colab": {
          "base_uri": "https://localhost:8080/"
        },
        "id": "dXNulGY2R3fW",
        "outputId": "e5415307-ae50-43a4-a545-b82d09fe1bc8"
      },
      "execution_count": 14,
      "outputs": [
        {
          "output_type": "stream",
          "name": "stdout",
          "text": [
            "(1, 2, 3)\n"
          ]
        }
      ]
    },
    {
      "cell_type": "code",
      "source": [
        "my_list = [1,2,3,4,5]\n",
        "print (my_list[0])"
      ],
      "metadata": {
        "colab": {
          "base_uri": "https://localhost:8080/"
        },
        "id": "Dv73zcTvR8WR",
        "outputId": "e21e529e-a82c-4bc5-a52c-e7688fc1fe50"
      },
      "execution_count": 15,
      "outputs": [
        {
          "output_type": "stream",
          "name": "stdout",
          "text": [
            "1\n"
          ]
        }
      ]
    },
    {
      "cell_type": "markdown",
      "source": [
        "Q.5. Describe the key features of sets and provide examples of their use."
      ],
      "metadata": {
        "id": "voDxPg_wSB5L"
      }
    },
    {
      "cell_type": "markdown",
      "source": [
        "Ans. Sets are a fundamental data structure in Python which offer efficient and powerful features for managing unique elements.Some of the key features of sts and their examples are given below :-\n",
        "(a). Sets are unordered collection of unique elements.\n",
        "\n",
        "(b). No duplicate or repeated elements are allowed in sets.\n",
        "\n",
        "(c). There is support for mathematical operations such as union, intersection, difference.\n",
        "\n",
        "(d). They are mutable.\n",
        "\n",
        "(e). Sets provide efficient and powerful features for managing unique elements.\n",
        "\n",
        "Some examples are :-\n",
        "\n",
        "Union of Sets -"
      ],
      "metadata": {
        "id": "nPpGB8RuSONs"
      }
    },
    {
      "cell_type": "code",
      "source": [
        "# Python Program to\n",
        "# demonstrate union of\n",
        "# two sets\n",
        "\n",
        "people = {\"Jay\", \"Idrish\", \"Archil\"}\n",
        "vampires = {\"Karan\", \"Arjun\"}\n",
        "dracula = {\"Deepanshu\", \"Raju\"}\n",
        "\n",
        "# Union using union()\n",
        "# function\n",
        "population = people.union(vampires)\n",
        "\n",
        "print(\"Union using union() function\")\n",
        "print(population)\n",
        "\n",
        "# Union using \"|\"\n",
        "# operator\n",
        "population = people|dracula\n",
        "\n",
        "print(\"\\nUnion using '|' operator\")\n",
        "print(population)"
      ],
      "metadata": {
        "colab": {
          "base_uri": "https://localhost:8080/"
        },
        "id": "IEuvz0T2SSPg",
        "outputId": "fb58224e-3ba9-4e8f-f9ed-bd360f511aac"
      },
      "execution_count": 16,
      "outputs": [
        {
          "output_type": "stream",
          "name": "stdout",
          "text": [
            "Union using union() function\n",
            "{'Archil', 'Karan', 'Arjun', 'Jay', 'Idrish'}\n",
            "\n",
            "Union using '|' operator\n",
            "{'Archil', 'Jay', 'Deepanshu', 'Raju', 'Idrish'}\n"
          ]
        }
      ]
    },
    {
      "cell_type": "markdown",
      "source": [
        "2. Intersection of Sets -\n"
      ],
      "metadata": {
        "id": "oDaDVYDdShaa"
      }
    },
    {
      "cell_type": "code",
      "source": [
        "# Python program to\n",
        "# demonstrate intersection\n",
        "# of two sets\n",
        "\n",
        "set1 = set()\n",
        "set2 = set()\n",
        "\n",
        "for i in range(5):\n",
        "    set1.add(i)\n",
        "\n",
        "for i in range(3,9):\n",
        "    set2.add(i)\n",
        "\n",
        "# Intersection using\n",
        "# intersection() function\n",
        "set3 = set1.intersection(set2)\n",
        "\n",
        "print(\"Intersection using intersection() function\")\n",
        "print(set3)\n",
        "\n",
        "# Intersection using\n",
        "# \"&\" operator\n",
        "set3 = set1 & set2\n",
        "\n",
        "print(\"\\nIntersection using '&' operator\")\n",
        "print(set3)"
      ],
      "metadata": {
        "colab": {
          "base_uri": "https://localhost:8080/"
        },
        "id": "_bH5sMSgSjiC",
        "outputId": "b7b64d7b-8275-47d3-fe0e-442262caa8e4"
      },
      "execution_count": 17,
      "outputs": [
        {
          "output_type": "stream",
          "name": "stdout",
          "text": [
            "Intersection using intersection() function\n",
            "{3, 4}\n",
            "\n",
            "Intersection using '&' operator\n",
            "{3, 4}\n"
          ]
        }
      ]
    },
    {
      "cell_type": "markdown",
      "source": [
        "3. Difference of sets -\n"
      ],
      "metadata": {
        "id": "P-jYxzVbSuoE"
      }
    },
    {
      "cell_type": "code",
      "source": [
        "# Python program to\n",
        "# demonstrate difference\n",
        "# of two sets\n",
        "\n",
        "set1 = set()\n",
        "set2 = set()\n",
        "\n",
        "for i in range(5):\n",
        "    set1.add(i)\n",
        "\n",
        "for i in range(3,9):\n",
        "    set2.add(i)\n",
        "\n",
        "# Difference of two sets\n",
        "# using difference() function\n",
        "set3 = set1.difference(set2)\n",
        "\n",
        "print(\" Difference of two sets using difference() function\")\n",
        "print(set3)\n",
        "\n",
        "# Difference of two sets\n",
        "# using '-' operator\n",
        "set3 = set1 - set2\n",
        "\n",
        "print(\"\\nDifference of two sets using '-' operator\")\n",
        "print(set3)"
      ],
      "metadata": {
        "colab": {
          "base_uri": "https://localhost:8080/"
        },
        "id": "T6ql6YE6SwIz",
        "outputId": "996f68de-60f2-4886-9a07-42d35b5916fb"
      },
      "execution_count": 18,
      "outputs": [
        {
          "output_type": "stream",
          "name": "stdout",
          "text": [
            " Difference of two sets using difference() function\n",
            "{0, 1, 2}\n",
            "\n",
            "Difference of two sets using '-' operator\n",
            "{0, 1, 2}\n"
          ]
        }
      ]
    },
    {
      "cell_type": "markdown",
      "source": [
        "Q.6. Discuss the use case of tuples and sets in Python programming."
      ],
      "metadata": {
        "id": "6cjg408VS5Wr"
      }
    },
    {
      "cell_type": "markdown",
      "source": [
        "Ans. Tuples are immutable and ordered collection of values.\n",
        "\n",
        "Use cases of tuples are :-\n",
        "(a). it stores data that should not change.\n",
        "\n",
        "(b). used for passing multiple to functions.\n",
        "\n",
        "(c). used to represent rows in a database or items in a list.\n",
        "\n",
        "(d). tuples are used as keys in dictionaries.\n",
        "\n",
        "Sets are unordered collection of unique values.\n",
        "\n",
        "Use cases of sets are :-\n",
        "\n",
        "(a). remove duplicates from lists.\n",
        "\n",
        "(b). to check if an element exists.\n",
        "\n",
        "(c). to perform set operations like union,intersection, difference.\n",
        "\n",
        "(d). improves query performance.\n",
        "\n",
        "Examples :-\n",
        "\n",
        "Using tuples as dictionary keys -\n",
        "\n"
      ],
      "metadata": {
        "id": "awQ_bMObS6sP"
      }
    },
    {
      "cell_type": "code",
      "source": [
        "data = {(1,2):\"value 1\",(3,4):\"value 2\"}\n",
        "print(data[(1,2)])"
      ],
      "metadata": {
        "colab": {
          "base_uri": "https://localhost:8080/"
        },
        "id": "g8Thx_zPS_H4",
        "outputId": "bfa67bce-5f13-404f-b93b-d4eb8dd038f9"
      },
      "execution_count": 19,
      "outputs": [
        {
          "output_type": "stream",
          "name": "stdout",
          "text": [
            "value 1\n"
          ]
        }
      ]
    },
    {
      "cell_type": "markdown",
      "source": [
        "Using Sets for removing duplicates -\n",
        "\n"
      ],
      "metadata": {
        "id": "F8gBuiMQTIkt"
      }
    },
    {
      "cell_type": "code",
      "source": [
        "names = [\"John\",\"Mary\",\"John\"]\n",
        "unique_names=set(names)\n",
        "print(unique_names)"
      ],
      "metadata": {
        "colab": {
          "base_uri": "https://localhost:8080/"
        },
        "id": "p9K7P9v7TLM0",
        "outputId": "5b3c4653-ad7d-413b-c271-4c698fc6520a"
      },
      "execution_count": 20,
      "outputs": [
        {
          "output_type": "stream",
          "name": "stdout",
          "text": [
            "{'Mary', 'John'}\n"
          ]
        }
      ]
    },
    {
      "cell_type": "markdown",
      "source": [
        "Q.7. Describe how to add,modify and delete items in a dictionary with examples."
      ],
      "metadata": {
        "id": "HrrTmOGCTSq1"
      }
    },
    {
      "cell_type": "markdown",
      "source": [
        "Ans. Given below is mentioned how to add, modify and delete items in a dictionary :-\n",
        "\n",
        "(a). Adding items in a dictionary -"
      ],
      "metadata": {
        "id": "1_NMptYyTTgF"
      }
    },
    {
      "cell_type": "markdown",
      "source": [
        "1. update ( ) method :"
      ],
      "metadata": {
        "id": "Du_-CJ_6Tc5i"
      }
    },
    {
      "cell_type": "code",
      "source": [
        "my_dict={\"name\":\"John\",\"age\":30}\n",
        "my_dict.update({\"country\":\"USA\",\"city\":\"New York\"})\n",
        "print(my_dict)"
      ],
      "metadata": {
        "colab": {
          "base_uri": "https://localhost:8080/"
        },
        "id": "Z7w0o5cGTiXx",
        "outputId": "70df7599-389a-482f-9218-3a7dbc6d5d11"
      },
      "execution_count": 21,
      "outputs": [
        {
          "output_type": "stream",
          "name": "stdout",
          "text": [
            "{'name': 'John', 'age': 30, 'country': 'USA', 'city': 'New York'}\n"
          ]
        }
      ]
    },
    {
      "cell_type": "markdown",
      "source": [
        "2. setdefault ( ) method -"
      ],
      "metadata": {
        "id": "tDfpsWErTtZV"
      }
    },
    {
      "cell_type": "code",
      "source": [
        "my_dict={\"name\":\"John\",\"age\":30}\n",
        "my_dict.setdefault(\"country\",\"USA\")\n",
        "print(my_dict)"
      ],
      "metadata": {
        "colab": {
          "base_uri": "https://localhost:8080/"
        },
        "id": "8fz0zB5CTwBQ",
        "outputId": "ebb91fd0-6da3-4e09-9721-47d5f981331d"
      },
      "execution_count": 22,
      "outputs": [
        {
          "output_type": "stream",
          "name": "stdout",
          "text": [
            "{'name': 'John', 'age': 30, 'country': 'USA'}\n"
          ]
        }
      ]
    },
    {
      "cell_type": "markdown",
      "source": [
        "(b). Modifying items in a dictionary -\n",
        "\n",
        "\n",
        "\n",
        "\n"
      ],
      "metadata": {
        "id": "nlaRHv6QUB8V"
      }
    },
    {
      "cell_type": "markdown",
      "source": [
        "1. update ( ) method :\n"
      ],
      "metadata": {
        "id": "fykJxg0MUM8n"
      }
    },
    {
      "cell_type": "code",
      "source": [
        "my_dict = {\"name\": \"John\", \"age\": 30}\n",
        "my_dict.update({\"age\": 31, \"name\": \"Jane\"})\n",
        "print(my_dict)"
      ],
      "metadata": {
        "colab": {
          "base_uri": "https://localhost:8080/"
        },
        "id": "R9EDmANDURwI",
        "outputId": "f2086115-b3d3-41c5-8917-74ec3c12c556"
      },
      "execution_count": 23,
      "outputs": [
        {
          "output_type": "stream",
          "name": "stdout",
          "text": [
            "{'name': 'Jane', 'age': 31}\n"
          ]
        }
      ]
    },
    {
      "cell_type": "markdown",
      "source": [
        "(c). Deleting items in a dictionary -\n",
        "\n"
      ],
      "metadata": {
        "id": "-EixyKyvUaUV"
      }
    },
    {
      "cell_type": "markdown",
      "source": [
        "1.pop ( ) method : removes last inserted item.\n"
      ],
      "metadata": {
        "id": "p0iTEOgcUbN-"
      }
    },
    {
      "cell_type": "code",
      "source": [
        "my_dict = {\"name\": \"John\", \"age\": 30}\n",
        "my_dict.pop(\"age\")\n",
        "print(my_dict)"
      ],
      "metadata": {
        "colab": {
          "base_uri": "https://localhost:8080/"
        },
        "id": "jip0uB0JUhe5",
        "outputId": "16efab5b-efb1-4020-d1d0-7ff62c0dfc8a"
      },
      "execution_count": 24,
      "outputs": [
        {
          "output_type": "stream",
          "name": "stdout",
          "text": [
            "{'name': 'John'}\n"
          ]
        }
      ]
    },
    {
      "cell_type": "markdown",
      "source": [
        "2.clear ( ) method : used for removing all the items.\n"
      ],
      "metadata": {
        "id": "2WAJud8bUpLT"
      }
    },
    {
      "cell_type": "code",
      "source": [
        "my_dict = {\"name\": \"John\", \"age\": 30}\n",
        "my_dict.clear()\n",
        "print(my_dict)"
      ],
      "metadata": {
        "colab": {
          "base_uri": "https://localhost:8080/"
        },
        "id": "4X4TaUbGUq5z",
        "outputId": "11757d26-cfe0-4c13-cd98-c47b44a3a06d"
      },
      "execution_count": 25,
      "outputs": [
        {
          "output_type": "stream",
          "name": "stdout",
          "text": [
            "{}\n"
          ]
        }
      ]
    },
    {
      "cell_type": "markdown",
      "source": [
        "Q.8. Discuss the importance of dictionary keys being immutable and provide examples."
      ],
      "metadata": {
        "id": "D70AYkzlUzd2"
      }
    },
    {
      "cell_type": "markdown",
      "source": [
        "Ans.In Python, dictionary keys must be immutable, means they can't be changed after creation. This is due to several reasons :-\n",
        "(a). Hashing :- dictionary keys are hashed for efficiency.Immutable keys ensure consistent hash values for fast and reliable key retrievals.\n",
        "\n",
        "(b). Uniqueness :- Immutability guarantees unique keys and prevents accidental key duplication.\n",
        "\n",
        "(c). Predictability :- Immutable keys simplifies debugging and maintenance.\n",
        "\n",
        "There are different types of immutable keys used :-\n",
        "\n",
        "Integers (int) :1,2,3 etc.\n",
        "\n",
        "Floats (float) : 3.14,-0.15,etc.\n",
        "\n",
        "Strings (str) : \"hello\", \"world\", etc.\n",
        "\n",
        "tuples :(1,2,3), (a,b,c), etc.\n",
        "\n",
        "Some operations of immutable keys are stated below :-"
      ],
      "metadata": {
        "id": "I8JC_VAEU0Pm"
      }
    },
    {
      "cell_type": "markdown",
      "source": [
        "1. Using tuples as keys -\n"
      ],
      "metadata": {
        "id": "8ovmORb2U5Wg"
      }
    },
    {
      "cell_type": "code",
      "source": [
        "my_tuple=(1,2,3)\n",
        "my_dict={my_tuple:\"value\"}\n",
        "print(my_dict[my_tuple])"
      ],
      "metadata": {
        "colab": {
          "base_uri": "https://localhost:8080/"
        },
        "id": "zEutD7N1U827",
        "outputId": "c0cd5908-4cf8-4dc1-bb58-fc9b293073b5"
      },
      "execution_count": 26,
      "outputs": [
        {
          "output_type": "stream",
          "name": "stdout",
          "text": [
            "value\n"
          ]
        }
      ]
    },
    {
      "cell_type": "markdown",
      "source": [
        "2. Converting mutable keys into immutable -\n"
      ],
      "metadata": {
        "id": "r9mOVNRkVDt_"
      }
    },
    {
      "cell_type": "code",
      "source": [
        "my_list=[1,2,3]\n",
        "my_tuple=tuple(my_list)  #Convert list to tuple\n",
        "my_dict={my_tuple:\"value\"}\n",
        "print(my_dict[my_tuple])"
      ],
      "metadata": {
        "colab": {
          "base_uri": "https://localhost:8080/"
        },
        "id": "u0qs_UeyVIj0",
        "outputId": "13f1c2b3-374d-47e7-d91d-1407acceca24"
      },
      "execution_count": 27,
      "outputs": [
        {
          "output_type": "stream",
          "name": "stdout",
          "text": [
            "value\n"
          ]
        }
      ]
    },
    {
      "cell_type": "markdown",
      "source": [
        "3.Attempting to use mutable keys -\n"
      ],
      "metadata": {
        "id": "YpDTPCKRVSgc"
      }
    },
    {
      "cell_type": "code",
      "source": [
        "my_list=[1,2,3]\n",
        "my_dict={my_list:\"value\"}"
      ],
      "metadata": {
        "colab": {
          "base_uri": "https://localhost:8080/",
          "height": 158
        },
        "id": "2NY55LyPVUHc",
        "outputId": "87d56d53-6a9f-4076-eab0-b61d2404eaea"
      },
      "execution_count": 28,
      "outputs": [
        {
          "output_type": "error",
          "ename": "TypeError",
          "evalue": "unhashable type: 'list'",
          "traceback": [
            "\u001b[0;31m---------------------------------------------------------------------------\u001b[0m",
            "\u001b[0;31mTypeError\u001b[0m                                 Traceback (most recent call last)",
            "\u001b[0;32m<ipython-input-28-8552c465d604>\u001b[0m in \u001b[0;36m<cell line: 2>\u001b[0;34m()\u001b[0m\n\u001b[1;32m      1\u001b[0m \u001b[0mmy_list\u001b[0m\u001b[0;34m=\u001b[0m\u001b[0;34m[\u001b[0m\u001b[0;36m1\u001b[0m\u001b[0;34m,\u001b[0m\u001b[0;36m2\u001b[0m\u001b[0;34m,\u001b[0m\u001b[0;36m3\u001b[0m\u001b[0;34m]\u001b[0m\u001b[0;34m\u001b[0m\u001b[0;34m\u001b[0m\u001b[0m\n\u001b[0;32m----> 2\u001b[0;31m \u001b[0mmy_dict\u001b[0m\u001b[0;34m=\u001b[0m\u001b[0;34m{\u001b[0m\u001b[0mmy_list\u001b[0m\u001b[0;34m:\u001b[0m\u001b[0;34m\"value\"\u001b[0m\u001b[0;34m}\u001b[0m\u001b[0;34m\u001b[0m\u001b[0;34m\u001b[0m\u001b[0m\n\u001b[0m",
            "\u001b[0;31mTypeError\u001b[0m: unhashable type: 'list'"
          ]
        }
      ]
    },
    {
      "cell_type": "markdown",
      "source": [
        "From above code we can see that when we try to use mutable keys, we get an Error.\n",
        "\n"
      ],
      "metadata": {
        "id": "D6aaXurLVdGu"
      }
    }
  ]
}